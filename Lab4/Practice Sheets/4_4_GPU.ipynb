{
 "cells": [
  {
   "cell_type": "markdown",
   "metadata": {
    "deletable": false,
    "editable": false,
    "id": "lgCJj5Ct824A",
    "nbgrader": {
     "checksum": "4972f311d33e889babafe6f6e44edc5f",
     "grade": false,
     "grade_id": "cell-8115527bd0e08e63",
     "locked": true,
     "schema_version": 1,
     "solution": false
    }
   },
   "source": [
    "# Part 4: Using GPU acceleration with PyTorch"
   ]
  },
  {
   "cell_type": "code",
   "execution_count": 1,
   "metadata": {
    "colab": {
     "base_uri": "https://localhost:8080/"
    },
    "deletable": false,
    "editable": false,
    "id": "ppdOa2yT824H",
    "nbgrader": {
     "checksum": "8ef6029eb23fe884594de09e1cd97769",
     "grade": false,
     "grade_id": "cell-2e8abb75fa5d4222",
     "locked": true,
     "schema_version": 1,
     "solution": false
    },
    "outputId": "33a73b64-6155-4eba-f79d-8d71576ef479"
   },
   "outputs": [
    {
     "name": "stdout",
     "output_type": "stream",
     "text": [
      "Collecting torchbearer\n",
      "  Downloading torchbearer-0.5.3-py3-none-any.whl (138 kB)\n",
      "\u001b[?25l\r",
      "\u001b[K     |██▍                             | 10 kB 15.0 MB/s eta 0:00:01\r",
      "\u001b[K     |████▊                           | 20 kB 15.8 MB/s eta 0:00:01\r",
      "\u001b[K     |███████▏                        | 30 kB 17.9 MB/s eta 0:00:01\r",
      "\u001b[K     |█████████▌                      | 40 kB 11.8 MB/s eta 0:00:01\r",
      "\u001b[K     |███████████▉                    | 51 kB 11.6 MB/s eta 0:00:01\r",
      "\u001b[K     |██████████████▎                 | 61 kB 12.8 MB/s eta 0:00:01\r",
      "\u001b[K     |████████████████▋               | 71 kB 10.8 MB/s eta 0:00:01\r",
      "\u001b[K     |███████████████████             | 81 kB 11.8 MB/s eta 0:00:01\r",
      "\u001b[K     |█████████████████████▍          | 92 kB 13.0 MB/s eta 0:00:01\r",
      "\u001b[K     |███████████████████████▊        | 102 kB 12.3 MB/s eta 0:00:01\r",
      "\u001b[K     |██████████████████████████      | 112 kB 12.3 MB/s eta 0:00:01\r",
      "\u001b[K     |████████████████████████████▌   | 122 kB 12.3 MB/s eta 0:00:01\r",
      "\u001b[K     |██████████████████████████████▉ | 133 kB 12.3 MB/s eta 0:00:01\r",
      "\u001b[K     |████████████████████████████████| 138 kB 12.3 MB/s \n",
      "\u001b[?25hRequirement already satisfied: tqdm in /usr/local/lib/python3.7/dist-packages (from torchbearer) (4.63.0)\n",
      "Requirement already satisfied: numpy in /usr/local/lib/python3.7/dist-packages (from torchbearer) (1.21.5)\n",
      "Requirement already satisfied: torch>=1.0.0 in /usr/local/lib/python3.7/dist-packages (from torchbearer) (1.10.0+cu111)\n",
      "Requirement already satisfied: typing-extensions in /usr/local/lib/python3.7/dist-packages (from torch>=1.0.0->torchbearer) (3.10.0.2)\n",
      "Installing collected packages: torchbearer\n",
      "Successfully installed torchbearer-0.5.3\n"
     ]
    }
   ],
   "source": [
    "# Execute this code block to install dependencies when running on colab\n",
    "try:\n",
    "    import torch\n",
    "except:\n",
    "    from os.path import exists\n",
    "    from wheel.pep425tags import get_abbr_impl, get_impl_ver, get_abi_tag\n",
    "    platform = '{}{}-{}'.format(get_abbr_impl(), get_impl_ver(), get_abi_tag())\n",
    "    cuda_output = !ldconfig -p|grep cudart.so|sed -e 's/.*\\.\\([0-9]*\\)\\.\\([0-9]*\\)$/cu\\1\\2/'\n",
    "    accelerator = cuda_output[0] if exists('/dev/nvidia0') else 'cpu'\n",
    "\n",
    "    !pip install -q http://download.pytorch.org/whl/{accelerator}/torch-1.0.0-{platform}-linux_x86_64.whl torchvision\n",
    "\n",
    "try: \n",
    "    import torchbearer\n",
    "except:\n",
    "    !pip install torchbearer"
   ]
  },
  {
   "cell_type": "markdown",
   "metadata": {
    "deletable": false,
    "editable": false,
    "id": "ZqdziCp5824K",
    "nbgrader": {
     "checksum": "5ad3d98e7a666f0550c48db3d40c9fb6",
     "grade": false,
     "grade_id": "cell-56a116e085aef83c",
     "locked": true,
     "schema_version": 1,
     "solution": false
    }
   },
   "source": [
    "## Manual use of `.cuda()`\n",
    "\n",
    "Now the magic of PyTorch comes in. So far, we've only been using the CPU to do computation. When we want to scale to a bigger problem, that won't be feasible for very long.\n",
    "|\n",
    "PyTorch makes it really easy to use the GPU for accelerating computation. Consider the following code that computes the element-wise product of two large matrices:"
   ]
  },
  {
   "cell_type": "code",
   "execution_count": 2,
   "metadata": {
    "colab": {
     "base_uri": "https://localhost:8080/"
    },
    "id": "LElf5iVc824L",
    "outputId": "88ede63d-db1b-477a-ed14-702d71a68808"
   },
   "outputs": [
    {
     "name": "stdout",
     "output_type": "stream",
     "text": [
      "tensor([[-5.5582e-01,  9.8506e-01, -1.2312e+00,  ...,  9.9659e-01,\n",
      "         -3.3670e-01,  7.9248e-02],\n",
      "        [-2.4446e-02, -1.3857e-01,  1.4147e+00,  ..., -1.5561e-01,\n",
      "         -6.5432e-01, -1.0956e+00],\n",
      "        [ 5.5027e-01,  2.5774e-01, -1.4111e+00,  ..., -6.0695e-01,\n",
      "          6.8110e-01,  1.7106e-01],\n",
      "        ...,\n",
      "        [ 1.1238e-02, -6.4855e-02, -8.1168e-01,  ..., -4.1626e-02,\n",
      "          2.5147e-02, -5.3411e-04],\n",
      "        [ 1.8064e-04,  9.8615e-01,  9.0629e-03,  ...,  4.1099e-01,\n",
      "          1.4054e+00, -7.9551e-01],\n",
      "        [-1.4603e+00,  9.3961e-01,  8.4710e-01,  ...,  2.8001e+00,\n",
      "          1.6934e+00,  2.4133e-01]])\n"
     ]
    }
   ],
   "source": [
    "import torch\n",
    "\n",
    "t1 = torch.randn(1000, 1000)\n",
    "t2 = torch.randn(1000, 1000)\n",
    "t3 = t1*t2\n",
    "print(t3)"
   ]
  },
  {
   "cell_type": "markdown",
   "metadata": {
    "deletable": false,
    "editable": false,
    "id": "yl_QeSxa824M",
    "nbgrader": {
     "checksum": "6af792ab02ecca981f5c12685789f471",
     "grade": false,
     "grade_id": "cell-6849616c01cf9f25",
     "locked": true,
     "schema_version": 1,
     "solution": false
    }
   },
   "source": [
    "By sending all the tensors that we are using to the GPU, all the operations on them will also run on the GPU without having to change anything else. If you're running a non-cuda enabled version of PyTorch the following will throw an error; if you have cuda available the following will create the input matrices, copy them to the GPU and perform the multiplication on the GPU itself:"
   ]
  },
  {
   "cell_type": "code",
   "execution_count": 3,
   "metadata": {
    "colab": {
     "base_uri": "https://localhost:8080/"
    },
    "id": "DoHQ7jLG824N",
    "outputId": "4cd262f9-7cb5-42a6-a92d-22bfb1bc374e"
   },
   "outputs": [
    {
     "name": "stdout",
     "output_type": "stream",
     "text": [
      "tensor([[ 2.7353e+00,  1.1655e+00, -1.9069e-02,  ..., -3.7231e-01,\n",
      "         -4.8646e-01, -1.5439e-02],\n",
      "        [ 1.5450e+00,  7.9112e-02,  8.4848e-01,  ...,  2.3113e-01,\n",
      "         -9.8565e-02,  2.1596e-02],\n",
      "        [-2.2474e-01, -1.9021e-02,  2.6352e-02,  ..., -3.1213e-02,\n",
      "         -3.3373e-02,  1.5323e-01],\n",
      "        ...,\n",
      "        [ 7.4364e-01,  1.0850e+00,  1.9742e-02,  ..., -1.5520e+00,\n",
      "         -6.7883e-01, -2.0290e-01],\n",
      "        [-2.0967e-01, -1.2400e-03,  1.3443e-02,  ...,  3.2297e-01,\n",
      "          5.5670e-01, -2.2818e-01],\n",
      "        [ 1.8827e+00, -3.2880e-01, -4.7433e-01,  ...,  6.9318e-01,\n",
      "         -6.2503e-01,  1.1836e+00]], device='cuda:0')\n"
     ]
    }
   ],
   "source": [
    "t1 = torch.randn(1000, 1000).cuda()\n",
    "t2 = torch.randn(1000, 1000).cuda()\n",
    "t3 = t1*t2\n",
    "print(t3)"
   ]
  },
  {
   "cell_type": "markdown",
   "metadata": {
    "deletable": false,
    "editable": false,
    "id": "Nz2yIZaT824O",
    "nbgrader": {
     "checksum": "c771877e9beb32f8a49585373534dad1",
     "grade": false,
     "grade_id": "cell-2bca345a3c01999c",
     "locked": true,
     "schema_version": 1,
     "solution": false
    }
   },
   "source": [
    "If you're running this workbook in colab, now enable GPU acceleration (`Runtime->Runtime Type` and add a `GPU` in the hardware accelerator pull-down). You'll then need to re-run all cells to this point.\n",
    "\n",
    "If you were able to run the above with hardware acceleration, the print-out of the result tensor would show that it was an instance of `cuda.FloatTensor` type on the the `(GPU 0)` GPU device. If your wanted to copy the tensor back to the CPU, you would use the `.cpu()` method."
   ]
  },
  {
   "cell_type": "markdown",
   "metadata": {
    "deletable": false,
    "editable": false,
    "id": "bIMUJC0d824P",
    "nbgrader": {
     "checksum": "c064698f174abe4509b23c34a7912f44",
     "grade": false,
     "grade_id": "cell-e308141abb8d0e0c",
     "locked": true,
     "schema_version": 1,
     "solution": false
    }
   },
   "source": [
    "## Writing platform agnostic code\n",
    "\n",
    "Most of the time you'd like to write code that is device agnostic; that is it will run on a GPU if one is available, and otherwise it would fall back to the CPU. The recommended way to do this is as follows:"
   ]
  },
  {
   "cell_type": "code",
   "execution_count": 4,
   "metadata": {
    "colab": {
     "base_uri": "https://localhost:8080/"
    },
    "id": "UiXysf8w824Q",
    "outputId": "a035e883-cd0e-4d73-d29d-4979ccc338d3"
   },
   "outputs": [
    {
     "name": "stdout",
     "output_type": "stream",
     "text": [
      "tensor([[-1.1131e+00,  1.0790e+00, -1.8110e+00,  ..., -1.4917e+00,\n",
      "          4.1178e-02, -8.1272e-01],\n",
      "        [-6.5117e-02, -2.5483e-01, -1.4996e+00,  ..., -8.2185e-03,\n",
      "          1.4452e-03, -1.3973e+00],\n",
      "        [-9.8326e-01, -3.7880e-01, -2.4808e-01,  ..., -9.4188e-01,\n",
      "          1.7902e+00,  3.6644e-01],\n",
      "        ...,\n",
      "        [ 4.4730e-01, -2.4512e-01,  2.6187e-01,  ...,  6.3037e-01,\n",
      "         -4.9489e-03, -1.7821e-01],\n",
      "        [-8.7708e-01,  4.2919e-01,  7.8215e-01,  ..., -2.8335e-02,\n",
      "          3.0368e-02, -1.0625e+00],\n",
      "        [-3.9451e-01,  1.5431e-01,  1.0358e+00,  ..., -3.3488e-01,\n",
      "         -6.3267e-01,  4.5839e-01]], device='cuda:0')\n"
     ]
    }
   ],
   "source": [
    "device = \"cuda:0\" if torch.cuda.is_available() else \"cpu\"\n",
    "t1 = torch.randn(1000, 1000).to(device)\n",
    "t2 = torch.randn(1000, 1000).to(device)\n",
    "t3 = t1*t2\n",
    "print(t3)"
   ]
  },
  {
   "cell_type": "markdown",
   "metadata": {
    "deletable": false,
    "editable": false,
    "id": "kKxQc_yg824R",
    "nbgrader": {
     "checksum": "b31bddc27c2bdeb593ee2498dfbd7e10",
     "grade": false,
     "grade_id": "cell-24f03f8a35648313",
     "locked": true,
     "schema_version": 1,
     "solution": false
    }
   },
   "source": [
    "## Accelerating neural net training\n",
    "\n",
    "If you wanted to accelerate the training of a neural net using raw PyTorch, you would have to copy both the model and the training data to the GPU. Unless you were using a really small dataset like MNIST, you would typically _stream_ the batches of training data to the GPU as you used them in the training loop:\n",
    "\n",
    "```python\n",
    "device = \"cuda:0\" if torch.cuda.is_available() else \"cpu\"\n",
    "model = BaselineModel(784, 784, 10).to(device)\n",
    "\n",
    "loss_function = ...\n",
    "optimiser = ...\n",
    "\n",
    "for epoch in range(10):\n",
    "    for data in trainloader:\n",
    "        inputs, labels = data\n",
    "        inputs, labels = inputs.to(device), labels.to(device)\n",
    "\n",
    "        optimiser.zero_grad()\n",
    "        outputs = model(inputs)\n",
    "        loss = loss_function(outputs, labels)\n",
    "        loss.backward()\n",
    "        optimiser.step()\n",
    "```\n",
    "\n",
    "Using Torchbearer, this becomes much simpler - you just tell the `Trial` to run on the GPU and that's it!:\n",
    "\n",
    "```python\n",
    "model = BetterCNN()\n",
    "\n",
    "loss_function = ...\n",
    "optimiser = ...\n",
    "\n",
    "device = \"cuda:0\" if torch.cuda.is_available() else \"cpu\"\n",
    "trial = Trial(model, optimiser, loss_function, metrics=['loss', 'accuracy']).to(device)\n",
    "trial.with_generators(trainloader)\n",
    "trial.run(epochs=10)\n",
    "```\n"
   ]
  },
  {
   "cell_type": "markdown",
   "metadata": {
    "deletable": false,
    "editable": false,
    "id": "qyf9hMSC824T",
    "nbgrader": {
     "checksum": "064768c85834aa40d82396f9f3cccfac",
     "grade": false,
     "grade_id": "cell-cf0444554770e817",
     "locked": true,
     "schema_version": 1,
     "solution": false
    }
   },
   "source": [
    "## Multiple GPUs\n",
    "\n",
    "Using multiple GPUs is beyond the scope of the lab, but if you have multiple cuda devices, they can be referred to by index: `cuda:0`, `cuda:1`, `cuda:2`, etc. You have to be careful not to mix operations on different devices, and would need how to carefully orchestrate moving of data between the devices (which can really slow down your code to the point at which using the CPU would actually be faster)."
   ]
  },
  {
   "cell_type": "markdown",
   "metadata": {
    "deletable": false,
    "editable": false,
    "id": "CZkY7vsE824U",
    "nbgrader": {
     "checksum": "d698b1536be57d852780abaf08fcad68",
     "grade": false,
     "grade_id": "cell-f0f058c0af885275",
     "locked": true,
     "schema_version": 1,
     "solution": false
    }
   },
   "source": [
    "## Questions\n",
    "\n",
    "__Answer the following questions (enter the answer in the box below each one):__\n",
    "\n",
    "__1.__ What features of GPUs allow them to perform computations faster than a typically CPU?"
   ]
  },
  {
   "cell_type": "markdown",
   "metadata": {
    "deletable": false,
    "id": "uQDfTDAO824U",
    "nbgrader": {
     "checksum": "b1dc585b11c0e499f09e409017b6cb06",
     "grade": true,
     "grade_id": "cell-76fcc457388a8223",
     "locked": false,
     "points": 1,
     "schema_version": 1,
     "solution": true
    }
   },
   "source": [
    "Memory Bandwidth is the main reason for GPU to perform better than CPU and parellel processing"
   ]
  },
  {
   "cell_type": "markdown",
   "metadata": {
    "deletable": false,
    "editable": false,
    "id": "cbWzbBtB824V",
    "nbgrader": {
     "checksum": "374801c6d757e48f93fe93618435c685",
     "grade": false,
     "grade_id": "cell-68f765cc2155e517",
     "locked": true,
     "schema_version": 1,
     "solution": false
    }
   },
   "source": [
    "__2.__ What is the biggest limiting factor for training large models with current generation GPUs?"
   ]
  },
  {
   "cell_type": "markdown",
   "metadata": {
    "deletable": false,
    "id": "QCqDXWWg824V",
    "nbgrader": {
     "checksum": "964d60951aa496908969f2ca35be3104",
     "grade": true,
     "grade_id": "cell-a147457afc2c4c40",
     "locked": false,
     "points": 1,
     "schema_version": 1,
     "solution": true
    }
   },
   "source": [
    "Available memory of the compute hardware"
   ]
  }
 ],
 "metadata": {
  "accelerator": "GPU",
  "colab": {
   "name": "4_4_GPU.ipynb",
   "provenance": []
  },
  "kernelspec": {
   "display_name": "Python 3",
   "language": "python",
   "name": "python3"
  },
  "language_info": {
   "codemirror_mode": {
    "name": "ipython",
    "version": 3
   },
   "file_extension": ".py",
   "mimetype": "text/x-python",
   "name": "python",
   "nbconvert_exporter": "python",
   "pygments_lexer": "ipython3",
   "version": "3.8.8"
  }
 },
 "nbformat": 4,
 "nbformat_minor": 1
}
