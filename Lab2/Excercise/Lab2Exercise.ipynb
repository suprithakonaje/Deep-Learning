{
  "nbformat": 4,
  "nbformat_minor": 0,
  "metadata": {
    "colab": {
      "name": "Lab2Exercise.ipynb",
      "provenance": []
    },
    "kernelspec": {
      "name": "python3",
      "display_name": "Python 3"
    },
    "language_info": {
      "name": "python"
    }
  },
  "cells": [
    {
      "cell_type": "code",
      "execution_count": 1,
      "metadata": {
        "id": "tL-_6RuQmmAB"
      },
      "outputs": [],
      "source": [
        "# Execute this code block to install dependencies when running on colab\n",
        "try:\n",
        "    import torch\n",
        "except:\n",
        "    from os.path import exists\n",
        "    from wheel.pep425tags import get_abbr_impl, get_impl_ver, get_abi_tag\n",
        "    platform = '{}{}-{}'.format(get_abbr_impl(), get_impl_ver(), get_abi_tag())\n",
        "    cuda_output = !ldconfig -p|grep cudart.so|sed -e 's/.*\\.\\([0-9]*\\)\\.\\([0-9]*\\)$/cu\\1\\2/'\n",
        "    accelerator = cuda_output[0] if exists('/dev/nvidia0') else 'cpu'\n",
        "\n",
        "    !pip install -q http://download.pytorch.org/whl/{accelerator}/torch-1.0.0-{platform}-linux_x86_64.whl torchvision"
      ]
    },
    {
      "cell_type": "markdown",
      "source": [
        "1.1 Implement gradient-based factorisation using PyTorch's AD"
      ],
      "metadata": {
        "id": "FYgSqFA3riPe"
      }
    },
    {
      "cell_type": "code",
      "source": [
        "from typing import Tuple\n",
        "\n",
        "def gd_factorise_ad(A: torch.Tensor, rank: int, num_epochs = 1000, lr = 0.01) -> Tuple[torch.tensor, torch.tensor]:\n",
        "\n",
        "  m, n = A.shape\n",
        "  U = torch.rand(m , rank, requires_grad=True)\n",
        "  V = torch.rand(n , rank, requires_grad=True)\n",
        "\n",
        "  for epoch in range(num_epochs):\n",
        "    norm_loss = torch.nn.functional.mse_loss(input = A, target = U @ V.T, reduction= 'sum')\n",
        "    norm_loss.backward()\n",
        "\n",
        "    U.data = U.data - U.grad.data * lr\n",
        "    V.data = V.data - V.grad.data * lr\n",
        "\n",
        "    U.grad.data.zero_()\n",
        "    V.grad.data.zero_()\n",
        "\n",
        "  return U, V"
      ],
      "metadata": {
        "id": "HUHfsgg5ruTH"
      },
      "execution_count": 2,
      "outputs": []
    },
    {
      "cell_type": "code",
      "source": [
        "A = torch.Tensor(\n",
        "    [[0.3374, 0.6005, 0.1735],\n",
        "     [3.3359, 0.0492, 1.8374],\n",
        "     [2.9407, 0.5301, 2.2620]]\n",
        ")\n",
        "\n",
        "U, V = gd_factorise_ad(A, rank = 2)\n",
        "print(\"U = \", U)\n",
        "print()\n",
        "print(\"V = \", V)\n",
        "print()\n",
        "\n",
        "norm_loss = torch.nn.functional.mse_loss(input = A, target = U @ V.T, reduction= 'sum')\n",
        "print(norm_loss)"
      ],
      "metadata": {
        "colab": {
          "base_uri": "https://localhost:8080/"
        },
        "id": "vNpGqnvOvzFR",
        "outputId": "2d97da08-c28c-4257-9bba-eb0a33ec9184"
      },
      "execution_count": 3,
      "outputs": [
        {
          "output_type": "stream",
          "name": "stdout",
          "text": [
            "U =  tensor([[-0.3143,  0.5761],\n",
            "        [ 1.4367,  0.9582],\n",
            "        [ 0.8594,  1.4892]], requires_grad=True)\n",
            "\n",
            "V =  tensor([[ 1.4699,  1.1915],\n",
            "        [-0.4464,  0.6597],\n",
            "        [ 0.7018,  1.0071]], requires_grad=True)\n",
            "\n",
            "tensor(0.1219, grad_fn=<MseLossBackward0>)\n"
          ]
        }
      ]
    },
    {
      "cell_type": "markdown",
      "source": [
        "1.2 Factorise and compute reconstruction error on real data\n"
      ],
      "metadata": {
        "id": "EXGqBtQDzrll"
      }
    },
    {
      "cell_type": "code",
      "source": [
        "import pandas as pd\n",
        "\n",
        "df = pd.read_csv('https://archive.ics.uci.edu/ml/machine-learning-databases'+'/iris/iris.data', header=None)\n",
        "data = torch.tensor(df.iloc[:, [0,1,2,3]].values)\n",
        "data = data - data.mean(dim=0)\n",
        "data = data.type(torch.float32)\n"
      ],
      "metadata": {
        "id": "WDuFFkF9z0CH"
      },
      "execution_count": 4,
      "outputs": []
    },
    {
      "cell_type": "markdown",
      "source": [
        "Using gd_factorise_ad"
      ],
      "metadata": {
        "id": "BH71-M_Y1QLK"
      }
    },
    {
      "cell_type": "code",
      "source": [
        "U, V = gd_factorise_ad(data, rank = 2 )\n",
        "gd_loss = torch.nn.functional.mse_loss(input = data, target = U @ V.T, reduction= 'sum')\n",
        "\n",
        "print(gd_loss)"
      ],
      "metadata": {
        "colab": {
          "base_uri": "https://localhost:8080/"
        },
        "id": "YXYSITUP1LG1",
        "outputId": "23f11751-c479-484a-d44e-ae5e813c0942"
      },
      "execution_count": 5,
      "outputs": [
        {
          "output_type": "stream",
          "name": "stdout",
          "text": [
            "tensor(15.2290, grad_fn=<MseLossBackward0>)\n"
          ]
        }
      ]
    },
    {
      "cell_type": "markdown",
      "source": [
        "Using SVD"
      ],
      "metadata": {
        "id": "bYP7_wI42LLQ"
      }
    },
    {
      "cell_type": "code",
      "source": [
        "U, S, V = torch.svd(data)\n",
        "S[2] = S[3] = 0\n",
        "data_svd = U @ torch.diag(S) @ V.T\n",
        "svd_loss = torch.nn.functional.mse_loss(input = data, target = data_svd, reduction= 'sum')\n",
        "\n",
        "print(svd_loss)"
      ],
      "metadata": {
        "colab": {
          "base_uri": "https://localhost:8080/"
        },
        "id": "8SxvBXfa2Kg4",
        "outputId": "cb184106-fbfa-42fc-b18a-d0da7561110f"
      },
      "execution_count": null,
      "outputs": [
        {
          "output_type": "stream",
          "name": "stdout",
          "text": [
            "tensor(15.2288)\n"
          ]
        }
      ]
    },
    {
      "cell_type": "markdown",
      "source": [
        "1.3 Compare against PCA"
      ],
      "metadata": {
        "id": "qLKAXw6B8LH2"
      }
    },
    {
      "cell_type": "code",
      "source": [
        "import matplotlib.pyplot as plt"
      ],
      "metadata": {
        "id": "sT1PCv8b9yg7"
      },
      "execution_count": null,
      "outputs": []
    },
    {
      "cell_type": "markdown",
      "source": [
        "Plot using SVD"
      ],
      "metadata": {
        "id": "3oMgc3T-_mpm"
      }
    },
    {
      "cell_type": "code",
      "source": [
        "U, S, V = torch.svd(data)\n",
        "S[2] = S[3] = 0\n",
        "data_svd = U @ torch.diag(S)\n",
        "fig, ax = plt.subplots(figsize=(7,3))\n",
        "ax.grid(True)\n",
        "ax.set_xlabel(\"Principle 1\")\n",
        "ax.set_ylabel(\"Principle 2\")\n",
        "plt.scatter(data_svd[:, 0], data_svd[:, 1], s=20, c='purple')"
      ],
      "metadata": {
        "colab": {
          "base_uri": "https://localhost:8080/",
          "height": 243
        },
        "id": "tESsjJc-8Pyg",
        "outputId": "123b1ee3-800f-43a2-b752-79f5edd0fd41"
      },
      "execution_count": null,
      "outputs": [
        {
          "output_type": "execute_result",
          "data": {
            "text/plain": [
              "<matplotlib.collections.PathCollection at 0x7f4d06609210>"
            ]
          },
          "metadata": {},
          "execution_count": 48
        },
        {
          "output_type": "display_data",
          "data": {
            "image/png": "[encoded data removed]",
            "text/plain": [
              "<Figure size 504x216 with 1 Axes>"
            ]
          },
          "metadata": {
            "needs_background": "light"
          }
        }
      ]
    },
    {
      "cell_type": "markdown",
      "source": [
        "Plot using data from U"
      ],
      "metadata": {
        "id": "Wx_gekOZ_uD4"
      }
    },
    {
      "cell_type": "code",
      "source": [
        "U, V = gd_factorise_ad(data, rank = 2)\n",
        "fig, ax = plt.subplots(figsize=(7,3))\n",
        "ax.grid(True)\n",
        "ax.set_xlabel(\"Principle 1\")\n",
        "ax.set_ylabel(\"Principle 2\")\n",
        "plt.scatter(U.data[:, 0], U.data[:, 1], s=20, c='purple')"
      ],
      "metadata": {
        "colab": {
          "base_uri": "https://localhost:8080/",
          "height": 243
        },
        "id": "2MN1mho0_tam",
        "outputId": "25eb9f77-0a04-46b0-cbb5-0e3dd922e7a6"
      },
      "execution_count": null,
      "outputs": [
        {
          "output_type": "execute_result",
          "data": {
            "text/plain": [
              "<matplotlib.collections.PathCollection at 0x7f4d06578950>"
            ]
          },
          "metadata": {},
          "execution_count": 52
        },
        {
          "output_type": "display_data",
          "data": {
            "image/png": "[encoded data removed]",
            "text/plain": [
              "<Figure size 504x216 with 1 Axes>"
            ]
          },
          "metadata": {
            "needs_background": "light"
          }
        }
      ]
    },
    {
      "cell_type": "markdown",
      "source": [
        "2.1 Implement the MLP"
      ],
      "metadata": {
        "id": "C3ND7Sw15EeS"
      }
    },
    {
      "cell_type": "code",
      "source": [
        "import numpy as np\n",
        "\n",
        "def create_mlp(training_data: torch.Tensor, training_target_data: torch.Tensor,\n",
        "               validation_data: torch.Tensor, validation_target_data: torch.Tensor, \n",
        "               num_epochs = 100, lr_rate = 0.01):\n",
        "  W1 = torch.rand(4,12, requires_grad=True)\n",
        "  W2 = torch.rand(12,3, requires_grad=True)\n",
        "\n",
        "  b1 = torch.tensor(0.0, requires_grad=True)\n",
        "  b2 = torch.tensor(0.0, requires_grad=True)\n",
        "\n",
        "  # Train the data\n",
        "  for epoch in range(num_epochs):\n",
        "\n",
        "    logits = torch.relu(training_data @ W1 +b1) @ W2 + b2\n",
        "    entropy = torch.nn.functional.cross_entropy(logits, training_target_data)\n",
        "    entropy.backward()\n",
        "\n",
        "    W1.data = W1.data + lr_rate * W1.grad.data\n",
        "    W2.data = W2.data + lr_rate * W2.grad.data\n",
        "\n",
        "    b1.data = b1.data + lr_rate * b1.grad.data\n",
        "    b2.data = b2.data + lr_rate * b2.grad.data\n",
        "\n",
        "    W1.grad.zero_()\n",
        "    W2.grad.zero_()\n",
        "    b1.grad.zero_()\n",
        "    b2.grad.zero_()\n",
        "\n",
        "  # Training Accuracy\n",
        "  training_pred = torch.relu(training_data @ W1 + b1) @ W2 +b2\n",
        "  final_training_prediction = torch.argmax(training_pred, dim = 1)\n",
        "  training_accuracy = sum(final_training_prediction == training_target_data)/len(training_data)\n",
        "\n",
        "  # Validation Accuracy\n",
        "  validation_pred = torch.relu(validate_data @ W1 + b1) @ W2 +b2\n",
        "  final_validation_prediction = torch.argmax(validation_pred, dim = 1)\n",
        "  validation_accuracy = sum(final_validation_prediction == validate_target_data)/len(validate_data)\n",
        "\n",
        "  return training_accuracy.item() * 100, validation_accuracy.item() * 100\n"
      ],
      "metadata": {
        "id": "2RrA4jj65HVW"
      },
      "execution_count": null,
      "outputs": []
    },
    {
      "cell_type": "markdown",
      "source": [
        "2.2 Test the MLP"
      ],
      "metadata": {
        "id": "J7zkK-M98rn-"
      }
    },
    {
      "cell_type": "code",
      "source": [
        "import pandas as pd\n",
        "\n",
        "df = pd.read_csv('https://archive.ics.uci.edu/ml/machine-learning-databases'+'/iris/iris.data', header=None)\n",
        "df = df.sample(frac = 1) # shuffle\n",
        "\n",
        "# add label indices column\n",
        "mapping = {k: v for v, k in enumerate(df[4].unique())}\n",
        "df[5] = df[4].map(mapping)\n",
        "\n",
        "# normalise data\n",
        "alldata = torch.tensor(df.iloc[:, [0, 1, 2, 3]].values, dtype=torch.float)\n",
        "alldata = (alldata - alldata.mean(dim=0)) / alldata.var(dim=0)\n",
        "\n",
        "# create datasets\n",
        "training_target_data = torch.tensor(df.iloc[:100, 5].values, dtype = torch.long)\n",
        "validate_target_data = torch.tensor(df.iloc[100:, 5].values, dtype = torch.long)\n",
        "training_data = alldata[:100]\n",
        "validate_data = alldata[100:]\n",
        "\n",
        "\n",
        "for i in range(10):\n",
        "  training_accuracy, validation_accuracy = create_mlp(training_data, training_target_data, validate_data, validate_target_data)\n",
        "  print(i+1,\"training accuracy:\", training_accuracy,\"validation accuracy:\", validation_accuracy)\n",
        "\n"
      ],
      "metadata": {
        "colab": {
          "base_uri": "https://localhost:8080/"
        },
        "id": "upENX5is8tqB",
        "outputId": "623c2922-69b9-4d26-a827-a5addf2bf8b1"
      },
      "execution_count": null,
      "outputs": [
        {
          "output_type": "stream",
          "name": "stdout",
          "text": [
            "1 training accuracy: 37.99999952316284 validation accuracy: 23.999999463558197\n",
            "2 training accuracy: 31.00000023841858 validation accuracy: 37.99999952316284\n",
            "3 training accuracy: 25.0 validation accuracy: 28.00000011920929\n",
            "4 training accuracy: 31.00000023841858 validation accuracy: 37.99999952316284\n",
            "5 training accuracy: 37.99999952316284 validation accuracy: 23.999999463558197\n",
            "6 training accuracy: 37.99999952316284 validation accuracy: 23.999999463558197\n",
            "7 training accuracy: 37.99999952316284 validation accuracy: 23.999999463558197\n",
            "8 training accuracy: 31.999999284744263 validation accuracy: 37.99999952316284\n",
            "9 training accuracy: 31.999999284744263 validation accuracy: 37.99999952316284\n",
            "10 training accuracy: 37.99999952316284 validation accuracy: 23.999999463558197\n"
          ]
        }
      ]
    }
  ]
}