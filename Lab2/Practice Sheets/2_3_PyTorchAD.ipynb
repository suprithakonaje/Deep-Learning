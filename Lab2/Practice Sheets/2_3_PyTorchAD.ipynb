{
 "cells": [
  {
   "cell_type": "markdown",
   "metadata": {
    "deletable": false,
    "editable": false,
    "id": "qi6lQpfOBduQ",
    "nbgrader": {
     "cell_type": "markdown",
     "checksum": "97d3c80864403311b3342877098cef5b",
     "grade": false,
     "grade_id": "cell-f38ec230aeb63f9d",
     "locked": true,
     "schema_version": 3,
     "solution": false
    }
   },
   "source": [
    "# Part 3: Reverse Mode Automatic Differentiation with PyTorch"
   ]
  },
  {
   "cell_type": "code",
   "execution_count": 1,
   "metadata": {
    "deletable": false,
    "editable": false,
    "id": "jd8-QW0dBduU",
    "nbgrader": {
     "cell_type": "code",
     "checksum": "529f94d77025a0b9b2a4aa44ed0b1f1b",
     "grade": false,
     "grade_id": "cell-2afa7eb0f5479ff9",
     "locked": true,
     "schema_version": 3,
     "solution": false
    }
   },
   "outputs": [],
   "source": [
    "# Execute this code block to install dependencies when running on colab\n",
    "try:\n",
    "    import torch\n",
    "except:\n",
    "    from os.path import exists\n",
    "    from wheel.pep425tags import get_abbr_impl, get_impl_ver, get_abi_tag\n",
    "    platform = '{}{}-{}'.format(get_abbr_impl(), get_impl_ver(), get_abi_tag())\n",
    "    cuda_output = !ldconfig -p|grep cudart.so|sed -e 's/.*\\.\\([0-9]*\\)\\.\\([0-9]*\\)$/cu\\1\\2/'\n",
    "    accelerator = cuda_output[0] if exists('/dev/nvidia0') else 'cpu'\n",
    "\n",
    "    !pip install -q http://download.pytorch.org/whl/{accelerator}/torch-1.0.0-{platform}-linux_x86_64.whl torchvision"
   ]
  },
  {
   "cell_type": "markdown",
   "metadata": {
    "deletable": false,
    "editable": false,
    "id": "NOGFZQquBduW",
    "nbgrader": {
     "cell_type": "markdown",
     "checksum": "8c13a801a6e49369b91bda4e906cb1cf",
     "grade": false,
     "grade_id": "cell-3d5d3b3ff9e2ac9f",
     "locked": true,
     "schema_version": 3,
     "solution": false
    }
   },
   "source": [
    "PyTorch implements Dynamic Reverse Mode Automatic Differentiation, much like we did in the previous exercise. There is one really major difference in what PyTorch provides over our simple example: it works directly with matrices (`Tensor`s) rather than with scalars (although obviously a matrix can represent a scalar).\n",
    "\n",
    "In this tutorial, we'll explore PyTorch's AD implementation. Note that we're using the API of PyTorch 0.4 or later which simplifies use of AD (previous versions required wrapping all `Tensor`s that you wanted to compute gradients of in `Variable` objects; PyTorch 0.4 removes the need to do this and allows `Tensor`s themselves to track gradients).\n",
    "\n",
    "We'll start with the simple example we tried earlier in the code block below:\n",
    "\n",
    "__Task:__ Run the following code and verify the solution is correct"
   ]
  },
  {
   "cell_type": "code",
   "execution_count": 2,
   "metadata": {
    "colab": {
     "base_uri": "https://localhost:8080/"
    },
    "deletable": false,
    "editable": false,
    "id": "TSfB59fLBduX",
    "nbgrader": {
     "cell_type": "code",
     "checksum": "0d5aa67ad79542449beb79e8b65a50bc",
     "grade": false,
     "grade_id": "cell-a7740c83bfcaa983",
     "locked": true,
     "schema_version": 3,
     "solution": false
    },
    "outputId": "0a5d4d2a-5b91-47b0-c687-7149f4d0727f"
   },
   "outputs": [
    {
     "name": "stdout",
     "output_type": "stream",
     "text": [
      "z = 2.57942533493042\n",
      "dz/dx = 5.077582359313965\n",
      "dz/dy = 0.5\n"
     ]
    }
   ],
   "source": [
    "import torch\n",
    "\n",
    "# set up the problem\n",
    "x = torch.tensor(0.5, requires_grad=True) # value of x and do we need gradient is set to True\n",
    "y = torch.tensor(4.2, requires_grad=True) # value of y and do we need gradient is set to True\n",
    "z = x * y + torch.sin(x) # z = xy + sin(x)\n",
    "\n",
    "# sin is in the form of radians, convert it to degree for clear understanding and easy calculations\n",
    "print(\"z = \" + str(z.item())) \n",
    "\n",
    "z.backward() # this goes through the computation graph and accumulates the gradients in the cached .grad attributes\n",
    "print(\"dz/dx = \" + str(x.grad.item()))\n",
    "print(\"dz/dy = \" + str(y.grad.item()))"
   ]
  },
  {
   "cell_type": "markdown",
   "metadata": {
    "deletable": false,
    "editable": false,
    "id": "LScA91MRBduY",
    "nbgrader": {
     "cell_type": "markdown",
     "checksum": "aac08494fe446009596079eba3016ddf",
     "grade": false,
     "grade_id": "cell-cb3a2586467dd0ad",
     "locked": true,
     "schema_version": 3,
     "solution": false
    }
   },
   "source": [
    "As with our own AD implementation, PyTorch lets us differentiate through an algorithm.\n",
    "\n",
    "__Task__: Use the block below to compute the gradient $\\partial z/\\partial x$ of the following pseudocode algorithm and store the result in the `dzdx` variable:\n",
    "\n",
    "    x = 0.5\n",
    "    z = 1\n",
    "    i = 0\n",
    "    while i<2:\n",
    "        z = (z + i) * x * x\n",
    "        i = i + 1"
   ]
  },
  {
   "cell_type": "code",
   "execution_count": 14,
   "metadata": {
    "colab": {
     "base_uri": "https://localhost:8080/"
    },
    "deletable": false,
    "id": "l316PxJUBduY",
    "nbgrader": {
     "cell_type": "code",
     "checksum": "b689f4aaf1507a7f532c6059896ad02e",
     "grade": false,
     "grade_id": "cell-62e1f0838236eddf",
     "locked": false,
     "schema_version": 3,
     "solution": true
    },
    "outputId": "71a3acff-264e-4133-e4fd-6f552afbc60c"
   },
   "outputs": [
    {
     "name": "stdout",
     "output_type": "stream",
     "text": [
      "tensor(0.3125, grad_fn=<MulBackward0>)\n",
      "1.5\n"
     ]
    }
   ],
   "source": [
    "x = torch.tensor(0.5, requires_grad= True)\n",
    "z = torch.tensor(1.0, requires_grad= True)\n",
    "\n",
    "for i in range(2):\n",
    "  z = (z + torch.tensor(float(i), requires_grad= True)) * x * x\n",
    "\n",
    "z.backward()\n",
    "print(z)\n",
    "dzdx = x.grad.item()\n",
    "print(dzdx)"
   ]
  },
  {
   "cell_type": "code",
   "execution_count": null,
   "metadata": {},
   "outputs": [],
   "source": [
    "z = 2\n",
    "for i in range(0, 4):\n",
    "    if i%2 == 0:\n",
    "        z = cos(z + x)"
   ]
  },
  {
   "cell_type": "code",
   "execution_count": null,
   "metadata": {},
   "outputs": [],
   "source": [
    "x = torch.tensor(0.25, requires_grad= True)\n",
    "z = torch.tensor(2.0, requires_grad= True)\n",
    "\n",
    "for i in range(0,4):\n",
    "    if i%2 ==0 :\n",
    "      z = torch.tensor(cos(z + x), requires_grad = True))\n",
    "\n",
    "z.backward()\n",
    "print(z)\n",
    "dzdx = x.grad.item()\n",
    "print(dzdx)"
   ]
  },
  {
   "cell_type": "code",
   "execution_count": 10,
   "metadata": {
    "deletable": false,
    "editable": false,
    "id": "u39H3gQWBdua",
    "nbgrader": {
     "cell_type": "code",
     "checksum": "bc79555ad292cd1026a9db951f9f8e47",
     "grade": true,
     "grade_id": "cell-cbe71552690f710b",
     "locked": true,
     "points": 4,
     "schema_version": 3,
     "solution": false
    }
   },
   "outputs": [],
   "source": [
    "assert dzdx == 1.5\n"
   ]
  },
  {
   "cell_type": "markdown",
   "metadata": {
    "deletable": false,
    "editable": false,
    "id": "foFRH6WoBdua",
    "nbgrader": {
     "cell_type": "markdown",
     "checksum": "d999d1c4c84b066fb15be1972dcaaad8",
     "grade": false,
     "grade_id": "cell-824ecf46b4875b5f",
     "locked": true,
     "schema_version": 3,
     "solution": false
    }
   },
   "source": [
    "## PyTorch limitations: in-place operations and aliasing\n",
    "\n",
    "PyTorch will throw an error at runtime if you try to differentiate through an in-place operation on a tensor. \n",
    "\n",
    "__Task__: Run the following code to see this in action."
   ]
  },
  {
   "cell_type": "code",
   "execution_count": 13,
   "metadata": {
    "colab": {
     "base_uri": "https://localhost:8080/",
     "height": 467
    },
    "deletable": false,
    "editable": false,
    "id": "o0ZD-E5rBdub",
    "nbgrader": {
     "cell_type": "code",
     "checksum": "eb07b791962399cd736ede26b99309e8",
     "grade": false,
     "grade_id": "cell-813341e9825354bf",
     "locked": true,
     "schema_version": 3,
     "solution": false
    },
    "outputId": "4479c589-62ac-4d97-b5de-fd0e8e597434"
   },
   "outputs": [
    {
     "name": "stdout",
     "output_type": "stream",
     "text": [
      "tensor(1., requires_grad=True)\n",
      "tensor(0.7616, grad_fn=<TanhBackward0>)\n",
      "tensor(3.7616, grad_fn=<AddBackward0>)\n"
     ]
    },
    {
     "ename": "RuntimeError",
     "evalue": "ignored",
     "output_type": "error",
     "traceback": [
      "\u001b[0;31m---------------------------------------------------------------------------\u001b[0m",
      "\u001b[0;31mRuntimeError\u001b[0m                              Traceback (most recent call last)",
      "\u001b[0;32m<ipython-input-13-f8f7a5af64d5>\u001b[0m in \u001b[0;36m<module>\u001b[0;34m()\u001b[0m\n\u001b[1;32m      8\u001b[0m \u001b[0my\u001b[0m\u001b[0;34m.\u001b[0m\u001b[0madd_\u001b[0m\u001b[0;34m(\u001b[0m\u001b[0;36m3\u001b[0m\u001b[0;34m)\u001b[0m \u001b[0;31m# inplace addition\u001b[0m\u001b[0;34m\u001b[0m\u001b[0;34m\u001b[0m\u001b[0m\n\u001b[1;32m      9\u001b[0m \u001b[0mprint\u001b[0m\u001b[0;34m(\u001b[0m\u001b[0my\u001b[0m\u001b[0;34m)\u001b[0m\u001b[0;34m\u001b[0m\u001b[0;34m\u001b[0m\u001b[0m\n\u001b[0;32m---> 10\u001b[0;31m \u001b[0my\u001b[0m\u001b[0;34m.\u001b[0m\u001b[0mbackward\u001b[0m\u001b[0;34m(\u001b[0m\u001b[0;34m)\u001b[0m\u001b[0;34m\u001b[0m\u001b[0;34m\u001b[0m\u001b[0m\n\u001b[0m\u001b[1;32m     11\u001b[0m \u001b[0mprint\u001b[0m\u001b[0;34m(\u001b[0m\u001b[0my\u001b[0m\u001b[0;34m)\u001b[0m\u001b[0;34m\u001b[0m\u001b[0;34m\u001b[0m\u001b[0m\n",
      "\u001b[0;32m/usr/local/lib/python3.7/dist-packages/torch/_tensor.py\u001b[0m in \u001b[0;36mbackward\u001b[0;34m(self, gradient, retain_graph, create_graph, inputs)\u001b[0m\n\u001b[1;32m    305\u001b[0m                 \u001b[0mcreate_graph\u001b[0m\u001b[0;34m=\u001b[0m\u001b[0mcreate_graph\u001b[0m\u001b[0;34m,\u001b[0m\u001b[0;34m\u001b[0m\u001b[0;34m\u001b[0m\u001b[0m\n\u001b[1;32m    306\u001b[0m                 inputs=inputs)\n\u001b[0;32m--> 307\u001b[0;31m         \u001b[0mtorch\u001b[0m\u001b[0;34m.\u001b[0m\u001b[0mautograd\u001b[0m\u001b[0;34m.\u001b[0m\u001b[0mbackward\u001b[0m\u001b[0;34m(\u001b[0m\u001b[0mself\u001b[0m\u001b[0;34m,\u001b[0m \u001b[0mgradient\u001b[0m\u001b[0;34m,\u001b[0m \u001b[0mretain_graph\u001b[0m\u001b[0;34m,\u001b[0m \u001b[0mcreate_graph\u001b[0m\u001b[0;34m,\u001b[0m \u001b[0minputs\u001b[0m\u001b[0;34m=\u001b[0m\u001b[0minputs\u001b[0m\u001b[0;34m)\u001b[0m\u001b[0;34m\u001b[0m\u001b[0;34m\u001b[0m\u001b[0m\n\u001b[0m\u001b[1;32m    308\u001b[0m \u001b[0;34m\u001b[0m\u001b[0m\n\u001b[1;32m    309\u001b[0m     \u001b[0;32mdef\u001b[0m \u001b[0mregister_hook\u001b[0m\u001b[0;34m(\u001b[0m\u001b[0mself\u001b[0m\u001b[0;34m,\u001b[0m \u001b[0mhook\u001b[0m\u001b[0;34m)\u001b[0m\u001b[0;34m:\u001b[0m\u001b[0;34m\u001b[0m\u001b[0;34m\u001b[0m\u001b[0m\n",
      "\u001b[0;32m/usr/local/lib/python3.7/dist-packages/torch/autograd/__init__.py\u001b[0m in \u001b[0;36mbackward\u001b[0;34m(tensors, grad_tensors, retain_graph, create_graph, grad_variables, inputs)\u001b[0m\n\u001b[1;32m    154\u001b[0m     Variable._execution_engine.run_backward(\n\u001b[1;32m    155\u001b[0m         \u001b[0mtensors\u001b[0m\u001b[0;34m,\u001b[0m \u001b[0mgrad_tensors_\u001b[0m\u001b[0;34m,\u001b[0m \u001b[0mretain_graph\u001b[0m\u001b[0;34m,\u001b[0m \u001b[0mcreate_graph\u001b[0m\u001b[0;34m,\u001b[0m \u001b[0minputs\u001b[0m\u001b[0;34m,\u001b[0m\u001b[0;34m\u001b[0m\u001b[0;34m\u001b[0m\u001b[0m\n\u001b[0;32m--> 156\u001b[0;31m         allow_unreachable=True, accumulate_grad=True)  # allow_unreachable flag\n\u001b[0m\u001b[1;32m    157\u001b[0m \u001b[0;34m\u001b[0m\u001b[0m\n\u001b[1;32m    158\u001b[0m \u001b[0;34m\u001b[0m\u001b[0m\n",
      "\u001b[0;31mRuntimeError\u001b[0m: one of the variables needed for gradient computation has been modified by an inplace operation: [torch.FloatTensor []], which is output 0 of TanhBackward0, is at version 1; expected version 0 instead. Hint: enable anomaly detection to find the operation that failed to compute its gradient, with torch.autograd.set_detect_anomaly(True)."
     ]
    }
   ],
   "source": [
    "# An in-place operation is an operation that changes directly the content of a \n",
    "# given Tensor without making a copy\n",
    "\n",
    "x = torch.tensor(1.0, requires_grad=True)\n",
    "print (x)\n",
    "y = x.tanh()\n",
    "print(y)\n",
    "y.add_(3) # inplace addition\n",
    "print(y)\n",
    "y.backward()\n",
    "print(y)"
   ]
  },
  {
   "cell_type": "markdown",
   "metadata": {
    "deletable": false,
    "editable": false,
    "id": "vFnNmjH3Bduc",
    "nbgrader": {
     "cell_type": "markdown",
     "checksum": "bfd84ec33f62c537a0ea6ea4f87291de",
     "grade": false,
     "grade_id": "cell-b9986c88256e8468",
     "locked": true,
     "schema_version": 3,
     "solution": false
    }
   },
   "source": [
    "Aliasing is also something that can't be differentiated through and will result in a slightly more cryptic error.\n",
    "\n",
    "__Task__: Run the following code to see this in action. If you don't understand what this code does add some `print` statements to show the values of `x` and `y` at various points."
   ]
  },
  {
   "cell_type": "code",
   "execution_count": 22,
   "metadata": {
    "colab": {
     "base_uri": "https://localhost:8080/"
    },
    "id": "Sbbp6VfIBduc",
    "outputId": "94111579-34a1-41f1-e46d-de4fbc5b96f1"
   },
   "outputs": [
    {
     "name": "stdout",
     "output_type": "stream",
     "text": [
      "tensor([1., 2., 3., 4.], requires_grad=True)\n",
      "tensor([1.], grad_fn=<SliceBackward0>)\n",
      "tensor([1.], grad_fn=<SliceBackward0>)\n"
     ]
    }
   ],
   "source": [
    "x = torch.tensor([1, 2, 3, 4], requires_grad=True, dtype=torch.float)\n",
    "print(x)\n",
    "y = x[:1]\n",
    "print(y)\n",
    "y.add(3)\n",
    "print(y)\n",
    "y.backward()"
   ]
  },
  {
   "cell_type": "markdown",
   "metadata": {
    "deletable": false,
    "editable": false,
    "id": "UyD1IMDkBdud",
    "nbgrader": {
     "cell_type": "markdown",
     "checksum": "4e749620afa15537eddb1f61565c927e",
     "grade": false,
     "grade_id": "cell-76e1b1d7cbc02388",
     "locked": true,
     "schema_version": 3,
     "solution": false
    }
   },
   "source": [
    "## Dealing with multiple outputs\n",
    "\n",
    "PyTorch can deal with the case where there are multiple output variables if we can formulate the expression in terms of tensor operations. Consider the example from the presentation for example:\n",
    "\n",
    "$$\\begin{cases}\n",
    "     z = 2x + \\sin x\\\\\n",
    "     v = 4x + \\cos x\n",
    "\\end{cases}$$\n",
    "\n",
    "We could formulate this as:\n",
    "\n",
    "$$\n",
    "\\begin{bmatrix}z \\\\ v\\end{bmatrix} = \\begin{bmatrix}2 \\\\ 4\\end{bmatrix} \\odot \\bar{x} + \\begin{bmatrix}1 \\\\ 0\\end{bmatrix} \\odot \\sin\\bar x + \\begin{bmatrix}0 \\\\ 1\\end{bmatrix} \\odot \\cos\\bar x\n",
    "$$\n",
    "\n",
    "where \n",
    "\n",
    "$$\n",
    "\\bar x = \\begin{bmatrix}x \\\\ x\\end{bmatrix}\n",
    "$$\n",
    "\n",
    "and $\\odot$ represents the Hadamard or element-wise product. This is demonstrated using PyTorch in the following code block.\n",
    "\n",
    "__Task:__ run the code below."
   ]
  },
  {
   "cell_type": "code",
   "execution_count": 23,
   "metadata": {
    "colab": {
     "base_uri": "https://localhost:8080/"
    },
    "deletable": false,
    "editable": false,
    "id": "YcwmdcezBdud",
    "nbgrader": {
     "cell_type": "code",
     "checksum": "5ab1d7ea5f6b1a017f7949fa0dd1c8f1",
     "grade": false,
     "grade_id": "cell-58a1e0676df73645",
     "locked": true,
     "schema_version": 3,
     "solution": false
    },
    "outputId": "48937b2b-5c53-4a66-ae8b-26cf837bee79"
   },
   "outputs": [
    {
     "name": "stdout",
     "output_type": "stream",
     "text": [
      "tensor([[2.5403],\n",
      "        [3.1585]])\n"
     ]
    }
   ],
   "source": [
    "x = torch.tensor([[1.0],[1.0]], requires_grad=True)\n",
    "\n",
    "zv = ( torch.tensor([[2.0],[4.0]]) * x +\n",
    "         torch.tensor([[1.0], [0.0]]) * torch.sin(x) +\n",
    "         torch.tensor([[0.0], [1.0]]) * torch.cos(x) )\n",
    "        \n",
    "zv.backward(torch.tensor([[1.0],[1.0]])) # Note as we have \"multiple outputs\" we must pass in a tensor of weights of the correct size\n",
    "\n",
    "print(x.grad)"
   ]
  },
  {
   "cell_type": "markdown",
   "metadata": {
    "deletable": false,
    "editable": false,
    "id": "P2X8glaYBdud",
    "nbgrader": {
     "cell_type": "markdown",
     "checksum": "68158fbb8633636d8fdeaab2b8066186",
     "grade": false,
     "grade_id": "cell-5253f44d76ef4079",
     "locked": true,
     "schema_version": 3,
     "solution": false
    }
   },
   "source": [
    "__Task:__ Use the following box to write down the derivative of the expression for $\\begin{bmatrix}z \\\\ v\\end{bmatrix}$ and verify the gradients $\\partial z/\\partial x$ and $\\partial v/\\partial x$ are correct for $x=1$."
   ]
  },
  {
   "cell_type": "markdown",
   "metadata": {
    "deletable": false,
    "id": "TGRnqB9bBdue",
    "nbgrader": {
     "cell_type": "markdown",
     "checksum": "1e10ee0f8f8395414cb70aa241376003",
     "grade": true,
     "grade_id": "cell-b85be7c90ef1f408",
     "locked": false,
     "points": 3,
     "schema_version": 3,
     "solution": true
    }
   },
   "source": [
    "$$\\partial z/\\partial x = 2 + cos(x) = 2.5403$$\n",
    "$$\\partial v/\\partial x = 4 - sin(x) = 3.1585$$"
   ]
  },
  {
   "cell_type": "markdown",
   "metadata": {
    "id": "IVJlItcKBdue"
   },
   "source": [
    "## Gradient descent & gradients with respect to a vector\n",
    "Let's put everything together and using automatically computed gradients to find the minima of a function by taking steps down the gradient from an initial position. Rather than explicitly creating each input variable as a scalar as in the previous examples, we'll use a vector instead (so our gradients will be with respect to each element of the vector).\n",
    "\n",
    "__Task:__ work through the following example to see how taking gradients with respect to a vector works & how simple gradient descent optimisation can be implemented."
   ]
  },
  {
   "cell_type": "code",
   "execution_count": null,
   "metadata": {
    "id": "aVOvO33wBdue"
   },
   "outputs": [],
   "source": [
    "# This is our starting vector\n",
    "initial=[[2.0], [1.0], [10.0]]\n",
    "\n",
    "# This is the function we will optimise (feel free to work out the analytic minima!)\n",
    "\n",
    "def function(x):\n",
    "    return x[0]**2 + x[1]**2 + x[2]**2\n",
    "\n",
    "x = torch.tensor(initial, requires_grad=True, dtype=torch.float)\n",
    "for i in range(0,100):\n",
    "    # manually dispose of the gradient (in reality it would be better to detach and zero it to reuse memory)\n",
    "    x.grad=None\n",
    "    # evaluate the function\n",
    "    J = function(x) \n",
    "    # auto-compute the gradients at the previously evaluated point x\n",
    "    J.backward()\n",
    "    # compute the update\n",
    "    x.data = x - x.grad*0.1 \n",
    "    \n",
    "    if i%10 == 0:\n",
    "        print((x, function(x).item()))\n"
   ]
  },
  {
   "cell_type": "markdown",
   "metadata": {
    "deletable": false,
    "editable": false,
    "id": "_5zidU2CBduf",
    "nbgrader": {
     "cell_type": "markdown",
     "checksum": "1a6fb5c11feed5015f3836b04ed25d65",
     "grade": false,
     "grade_id": "cell-fe38c3ff8580d8e1",
     "locked": true,
     "schema_version": 3,
     "solution": false
    }
   },
   "source": [
    "__Task__: Answer the following question in the box below: Why must the update in the code above be assigned to `x.data` rather than `x`?"
   ]
  },
  {
   "cell_type": "markdown",
   "metadata": {
    "deletable": false,
    "id": "eLF043ltBduf",
    "nbgrader": {
     "cell_type": "markdown",
     "checksum": "2b3a76629b34fb1c8a80c90d9df28dd9",
     "grade": true,
     "grade_id": "cell-855b4580505f3b5c",
     "locked": false,
     "points": 3,
     "schema_version": 3,
     "solution": true
    }
   },
   "source": [
    "It will store the same data as to x. It will not throw error as x.data will save a copy of it."
   ]
  },
  {
   "cell_type": "markdown",
   "metadata": {
    "id": "oojUg8klBduf"
   },
   "source": [
    "## Differentiating through random operations\n",
    "\n",
    "We'll end with an example that will be important later in the course: differentiating with respect to the parameters of a random number generator.\n",
    "\n",
    "Assume that as some part of a differentiable program that we write we wish to incorporate a random element where we sample values, $z$ from a Normal distribution: $z \\sim \\mathcal{N}(\\mu,\\sigma^2)$. We want to learn the parameters of the generator $\\mu$ and $\\sigma^2$, but how can we do this? In a differentiable program setting we want to differentiate with respect to these parameters, but at first glance it isn't at all obvious what this means as the generator _just_ produces numbers which themselves don't have gradients.\n",
    "\n",
    "The answer is often called the _reparameterisation trick_: If we note that sampling a Normal distribution with a specfic mean and variance is equivalent to drawing numbers from a standard Normal distribution and scaling and shifting them: $z \\sim \\mathcal{N}(\\mu,\\sigma^2) \\equiv z \\sim \\mu + \\sigma\\mathcal{N}(0,1)\\equiv z = \\mu + \\sigma \\zeta\\, \\rm{where}\\, \\zeta\\sim\\mathcal{N}(0,1)$. With this reparameterisation the gradients with respect to the parameters are obvious.\n",
    "\n",
    "The following code block demonstrates this in practice; each of the gradients can be interpreted as how much an infintesimal change in $\\mu$ or $\\sigma$ would change $z$ if we could repeat the sampling operation again with the same value of `torch.randn(1)` being produced:"
   ]
  },
  {
   "cell_type": "code",
   "execution_count": 24,
   "metadata": {
    "colab": {
     "base_uri": "https://localhost:8080/"
    },
    "id": "X8-n-h6pBdug",
    "outputId": "da029743-94f8-4f60-c3af-f7511b8e8871"
   },
   "outputs": [
    {
     "name": "stdout",
     "output_type": "stream",
     "text": [
      "z: 1.9089863300323486 \tdzdmu: 1.0 \tdzdsigma: 0.9089863300323486\n",
      "z: -2.630185842514038 \tdzdmu: 1.0 \tdzdsigma: -3.630185842514038\n",
      "z: 3.2027437686920166 \tdzdmu: 1.0 \tdzdsigma: 2.2027437686920166\n",
      "z: 1.7310314178466797 \tdzdmu: 1.0 \tdzdsigma: 0.7310314774513245\n",
      "z: 0.5364850163459778 \tdzdmu: 1.0 \tdzdsigma: -0.4635149836540222\n",
      "z: 1.652439832687378 \tdzdmu: 1.0 \tdzdsigma: 0.6524398922920227\n",
      "z: -0.19691681861877441 \tdzdmu: 1.0 \tdzdsigma: -1.1969168186187744\n",
      "z: 1.9791524410247803 \tdzdmu: 1.0 \tdzdsigma: 0.9791524410247803\n",
      "z: 0.4959508180618286 \tdzdmu: 1.0 \tdzdsigma: -0.5040491819381714\n",
      "z: 2.551204204559326 \tdzdmu: 1.0 \tdzdsigma: 1.5512043237686157\n"
     ]
    }
   ],
   "source": [
    "mu = torch.tensor(1.0, requires_grad=True)\n",
    "sigma = torch.tensor(1.0, requires_grad=True)\n",
    "\n",
    "for i in range(10):\n",
    "    mu.grad = None\n",
    "    sigma.grad = None\n",
    "    \n",
    "    z = mu + sigma * torch.randn(1)\n",
    "    z.backward()\n",
    "    print(\"z:\", z.item(), \"\\tdzdmu:\", mu.grad.item(), \"\\tdzdsigma:\", sigma.grad.item())"
   ]
  },
  {
   "cell_type": "code",
   "execution_count": null,
   "metadata": {
    "id": "mFZqxhdNBdug"
   },
   "outputs": [],
   "source": []
  }
 ],
 "metadata": {
  "colab": {
   "name": "2_3_PyTorchAD.ipynb",
   "provenance": []
  },
  "kernelspec": {
   "display_name": "Python 3",
   "language": "python",
   "name": "python3"
  },
  "language_info": {
   "codemirror_mode": {
    "name": "ipython",
    "version": 3
   },
   "file_extension": ".py",
   "mimetype": "text/x-python",
   "name": "python",
   "nbconvert_exporter": "python",
   "pygments_lexer": "ipython3",
   "version": "3.8.8"
  }
 },
 "nbformat": 4,
 "nbformat_minor": 1
}
