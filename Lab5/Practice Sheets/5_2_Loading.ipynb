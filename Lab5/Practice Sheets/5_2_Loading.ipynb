{
  "cells": [
    {
      "cell_type": "markdown",
      "metadata": {
        "deletable": false,
        "editable": false,
        "nbgrader": {
          "checksum": "2e433cbdd5b1bc32ffca46551a708e45",
          "grade": false,
          "grade_id": "cell-c290b2da5fe2edf3",
          "locked": true,
          "schema_version": 1,
          "solution": false
        },
        "id": "O6Omxut_u8Ld"
      },
      "source": [
        "# Part 2: Loading a saved model"
      ]
    },
    {
      "cell_type": "markdown",
      "metadata": {
        "deletable": false,
        "editable": false,
        "nbgrader": {
          "checksum": "f548e96caa143d15f7b0ec97bd4e149f",
          "grade": false,
          "grade_id": "cell-ba8019f876600bdf",
          "locked": true,
          "schema_version": 1,
          "solution": false
        },
        "id": "ST9HKOGSu8Lh"
      },
      "source": [
        "__Before starting, we recommend you enable GPU acceleration if you're running on Colab. You'll also need to upload the weights you downloaded previously using the following block and using the upload button to upload your bettercnn.weights file:__"
      ]
    },
    {
      "cell_type": "code",
      "execution_count": 1,
      "metadata": {
        "deletable": false,
        "editable": false,
        "nbgrader": {
          "checksum": "c0d2caf75989226e03a8ded7438278a5",
          "grade": false,
          "grade_id": "cell-7baa302f182176c7",
          "locked": true,
          "schema_version": 1,
          "solution": false
        },
        "id": "edDDxh0Ku8Lh",
        "outputId": "134ed2e7-e4d3-4f7f-ab46-ed2629e1260c",
        "colab": {
          "resources": {
            "http://localhost:8080/nbextensions/google.colab/files.js": {
              "data": "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",
              "ok": true,
              "headers": [
                [
                  "content-type",
                  "application/javascript"
                ]
              ],
              "status": 200,
              "status_text": ""
            }
          },
          "base_uri": "https://localhost:8080/",
          "height": 1000
        }
      },
      "outputs": [
        {
          "output_type": "stream",
          "name": "stdout",
          "text": [
            "Collecting torchbearer\n",
            "  Downloading torchbearer-0.5.3-py3-none-any.whl (138 kB)\n",
            "\u001b[K     |████████████████████████████████| 138 kB 3.2 MB/s \n",
            "\u001b[?25hRequirement already satisfied: torch>=1.0.0 in /usr/local/lib/python3.7/dist-packages (from torchbearer) (1.10.0+cu111)\n",
            "Requirement already satisfied: tqdm in /usr/local/lib/python3.7/dist-packages (from torchbearer) (4.63.0)\n",
            "Requirement already satisfied: numpy in /usr/local/lib/python3.7/dist-packages (from torchbearer) (1.21.5)\n",
            "Requirement already satisfied: typing-extensions in /usr/local/lib/python3.7/dist-packages (from torch>=1.0.0->torchbearer) (3.10.0.2)\n",
            "Installing collected packages: torchbearer\n",
            "Successfully installed torchbearer-0.5.3\n"
          ]
        },
        {
          "output_type": "display_data",
          "data": {
            "text/plain": [
              "<IPython.core.display.HTML object>"
            ],
            "text/html": [
              "\n",
              "     <input type=\"file\" id=\"files-b62f05bd-b3fc-402a-a553-45a01a62bfc7\" name=\"files[]\" multiple disabled\n",
              "        style=\"border:none\" />\n",
              "     <output id=\"result-b62f05bd-b3fc-402a-a553-45a01a62bfc7\">\n",
              "      Upload widget is only available when the cell has been executed in the\n",
              "      current browser session. Please rerun this cell to enable.\n",
              "      </output>\n",
              "      <script src=\"/nbextensions/google.colab/files.js\"></script> "
            ]
          },
          "metadata": {}
        },
        {
          "output_type": "stream",
          "name": "stdout",
          "text": [
            "Saving bettercnn.weights to bettercnn.weights\n",
            "--2022-04-06 16:38:46--  http://comp6248.ecs.soton.ac.uk/labs/lab5/0.PNG\n",
            "Resolving comp6248.ecs.soton.ac.uk (comp6248.ecs.soton.ac.uk)... 185.199.110.153, 185.199.111.153, 185.199.108.153, ...\n",
            "Connecting to comp6248.ecs.soton.ac.uk (comp6248.ecs.soton.ac.uk)|185.199.110.153|:80... connected.\n",
            "HTTP request sent, awaiting response... 200 OK\n",
            "Length: 2514 (2.5K) [image/png]\n",
            "Saving to: ‘0.PNG’\n",
            "\n",
            "0.PNG               100%[===================>]   2.46K  --.-KB/s    in 0s      \n",
            "\n",
            "2022-04-06 16:38:47 (223 MB/s) - ‘0.PNG’ saved [2514/2514]\n",
            "\n",
            "--2022-04-06 16:38:47--  http://comp6248.ecs.soton.ac.uk/labs/lab5/1.PNG\n",
            "Resolving comp6248.ecs.soton.ac.uk (comp6248.ecs.soton.ac.uk)... 185.199.110.153, 185.199.111.153, 185.199.108.153, ...\n",
            "Connecting to comp6248.ecs.soton.ac.uk (comp6248.ecs.soton.ac.uk)|185.199.110.153|:80... connected.\n",
            "HTTP request sent, awaiting response... 200 OK\n",
            "Length: 2448 (2.4K) [image/png]\n",
            "Saving to: ‘1.PNG’\n",
            "\n",
            "1.PNG               100%[===================>]   2.39K  --.-KB/s    in 0s      \n",
            "\n",
            "2022-04-06 16:38:47 (318 MB/s) - ‘1.PNG’ saved [2448/2448]\n",
            "\n",
            "--2022-04-06 16:38:47--  http://comp6248.ecs.soton.ac.uk/labs/lab5/2.PNG\n",
            "Resolving comp6248.ecs.soton.ac.uk (comp6248.ecs.soton.ac.uk)... 185.199.110.153, 185.199.111.153, 185.199.108.153, ...\n",
            "Connecting to comp6248.ecs.soton.ac.uk (comp6248.ecs.soton.ac.uk)|185.199.110.153|:80... connected.\n",
            "HTTP request sent, awaiting response... 200 OK\n",
            "Length: 156 [image/png]\n",
            "Saving to: ‘2.PNG’\n",
            "\n",
            "2.PNG               100%[===================>]     156  --.-KB/s    in 0s      \n",
            "\n",
            "2022-04-06 16:38:47 (20.8 MB/s) - ‘2.PNG’ saved [156/156]\n",
            "\n",
            "--2022-04-06 16:38:47--  http://comp6248.ecs.soton.ac.uk/labs/lab5/3.PNG\n",
            "Resolving comp6248.ecs.soton.ac.uk (comp6248.ecs.soton.ac.uk)... 185.199.110.153, 185.199.111.153, 185.199.108.153, ...\n",
            "Connecting to comp6248.ecs.soton.ac.uk (comp6248.ecs.soton.ac.uk)|185.199.110.153|:80... connected.\n",
            "HTTP request sent, awaiting response... 200 OK\n",
            "Length: 229 [image/png]\n",
            "Saving to: ‘3.PNG’\n",
            "\n",
            "3.PNG               100%[===================>]     229  --.-KB/s    in 0s      \n",
            "\n",
            "2022-04-06 16:38:48 (32.1 MB/s) - ‘3.PNG’ saved [229/229]\n",
            "\n",
            "--2022-04-06 16:38:48--  http://comp6248.ecs.soton.ac.uk/labs/lab5/4.PNG\n",
            "Resolving comp6248.ecs.soton.ac.uk (comp6248.ecs.soton.ac.uk)... 185.199.110.153, 185.199.111.153, 185.199.108.153, ...\n",
            "Connecting to comp6248.ecs.soton.ac.uk (comp6248.ecs.soton.ac.uk)|185.199.110.153|:80... connected.\n",
            "HTTP request sent, awaiting response... 200 OK\n",
            "Length: 175 [image/png]\n",
            "Saving to: ‘4.PNG’\n",
            "\n",
            "4.PNG               100%[===================>]     175  --.-KB/s    in 0s      \n",
            "\n",
            "2022-04-06 16:38:48 (23.6 MB/s) - ‘4.PNG’ saved [175/175]\n",
            "\n",
            "--2022-04-06 16:38:48--  http://comp6248.ecs.soton.ac.uk/labs/lab5/5.PNG\n",
            "Resolving comp6248.ecs.soton.ac.uk (comp6248.ecs.soton.ac.uk)... 185.199.110.153, 185.199.111.153, 185.199.108.153, ...\n",
            "Connecting to comp6248.ecs.soton.ac.uk (comp6248.ecs.soton.ac.uk)|185.199.110.153|:80... connected.\n",
            "HTTP request sent, awaiting response... 200 OK\n",
            "Length: 155 [image/png]\n",
            "Saving to: ‘5.PNG’\n",
            "\n",
            "5.PNG               100%[===================>]     155  --.-KB/s    in 0s      \n",
            "\n",
            "2022-04-06 16:38:49 (20.0 MB/s) - ‘5.PNG’ saved [155/155]\n",
            "\n",
            "--2022-04-06 16:38:49--  http://comp6248.ecs.soton.ac.uk/labs/lab5/6.PNG\n",
            "Resolving comp6248.ecs.soton.ac.uk (comp6248.ecs.soton.ac.uk)... 185.199.110.153, 185.199.111.153, 185.199.108.153, ...\n",
            "Connecting to comp6248.ecs.soton.ac.uk (comp6248.ecs.soton.ac.uk)|185.199.110.153|:80... connected.\n",
            "HTTP request sent, awaiting response... 200 OK\n",
            "Length: 274 [image/png]\n",
            "Saving to: ‘6.PNG’\n",
            "\n",
            "6.PNG               100%[===================>]     274  --.-KB/s    in 0s      \n",
            "\n",
            "2022-04-06 16:38:50 (39.5 MB/s) - ‘6.PNG’ saved [274/274]\n",
            "\n",
            "--2022-04-06 16:38:50--  http://comp6248.ecs.soton.ac.uk/labs/lab5/7.PNG\n",
            "Resolving comp6248.ecs.soton.ac.uk (comp6248.ecs.soton.ac.uk)... 185.199.110.153, 185.199.111.153, 185.199.108.153, ...\n",
            "Connecting to comp6248.ecs.soton.ac.uk (comp6248.ecs.soton.ac.uk)|185.199.110.153|:80... connected.\n",
            "HTTP request sent, awaiting response... 200 OK\n",
            "Length: 157 [image/png]\n",
            "Saving to: ‘7.PNG’\n",
            "\n",
            "7.PNG               100%[===================>]     157  --.-KB/s    in 0s      \n",
            "\n",
            "2022-04-06 16:38:50 (21.1 MB/s) - ‘7.PNG’ saved [157/157]\n",
            "\n",
            "--2022-04-06 16:38:50--  http://comp6248.ecs.soton.ac.uk/labs/lab5/8.PNG\n",
            "Resolving comp6248.ecs.soton.ac.uk (comp6248.ecs.soton.ac.uk)... 185.199.110.153, 185.199.111.153, 185.199.108.153, ...\n",
            "Connecting to comp6248.ecs.soton.ac.uk (comp6248.ecs.soton.ac.uk)|185.199.110.153|:80... connected.\n",
            "HTTP request sent, awaiting response... 200 OK\n",
            "Length: 246 [image/png]\n",
            "Saving to: ‘8.PNG’\n",
            "\n",
            "8.PNG               100%[===================>]     246  --.-KB/s    in 0s      \n",
            "\n",
            "2022-04-06 16:38:50 (36.0 MB/s) - ‘8.PNG’ saved [246/246]\n",
            "\n",
            "--2022-04-06 16:38:50--  http://comp6248.ecs.soton.ac.uk/labs/lab5/9.PNG\n",
            "Resolving comp6248.ecs.soton.ac.uk (comp6248.ecs.soton.ac.uk)... 185.199.110.153, 185.199.111.153, 185.199.108.153, ...\n",
            "Connecting to comp6248.ecs.soton.ac.uk (comp6248.ecs.soton.ac.uk)|185.199.110.153|:80... connected.\n",
            "HTTP request sent, awaiting response... 200 OK\n",
            "Length: 261 [image/png]\n",
            "Saving to: ‘9.PNG’\n",
            "\n",
            "9.PNG               100%[===================>]     261  --.-KB/s    in 0s      \n",
            "\n",
            "2022-04-06 16:38:51 (35.4 MB/s) - ‘9.PNG’ saved [261/261]\n",
            "\n"
          ]
        }
      ],
      "source": [
        "# Execute this code block to install dependencies when running on colab\n",
        "try:\n",
        "    import torch\n",
        "except:\n",
        "    from os.path import exists\n",
        "    from wheel.pep425tags import get_abbr_impl, get_impl_ver, get_abi_tag\n",
        "    platform = '{}{}-{}'.format(get_abbr_impl(), get_impl_ver(), get_abi_tag())\n",
        "    cuda_output = !ldconfig -p|grep cudart.so|sed -e 's/.*\\.\\([0-9]*\\)\\.\\([0-9]*\\)$/cu\\1\\2/'\n",
        "    accelerator = cuda_output[0] if exists('/dev/nvidia0') else 'cpu'\n",
        "\n",
        "    !pip install -q http://download.pytorch.org/whl/{accelerator}/torch-1.0.0-{platform}-linux_x86_64.whl torchvision\n",
        "    \n",
        "try: \n",
        "    import torchbearer\n",
        "except:\n",
        "    !pip install torchbearer\n",
        "\n",
        "try:\n",
        "    from google.colab import files\n",
        "    uploaded = files.upload()\n",
        "except:\n",
        "    print(\"Not running on colab. Ignoring.\")\n",
        "\n",
        "!wget http://comp6248.ecs.soton.ac.uk/labs/lab5/0.PNG\n",
        "!wget http://comp6248.ecs.soton.ac.uk/labs/lab5/1.PNG\n",
        "!wget http://comp6248.ecs.soton.ac.uk/labs/lab5/2.PNG\n",
        "!wget http://comp6248.ecs.soton.ac.uk/labs/lab5/3.PNG\n",
        "!wget http://comp6248.ecs.soton.ac.uk/labs/lab5/4.PNG\n",
        "!wget http://comp6248.ecs.soton.ac.uk/labs/lab5/5.PNG\n",
        "!wget http://comp6248.ecs.soton.ac.uk/labs/lab5/6.PNG\n",
        "!wget http://comp6248.ecs.soton.ac.uk/labs/lab5/7.PNG\n",
        "!wget http://comp6248.ecs.soton.ac.uk/labs/lab5/8.PNG\n",
        "!wget http://comp6248.ecs.soton.ac.uk/labs/lab5/9.PNG"
      ]
    },
    {
      "cell_type": "markdown",
      "metadata": {
        "deletable": false,
        "editable": false,
        "nbgrader": {
          "checksum": "ce20db2649381e63c13307bcd496ab41",
          "grade": false,
          "grade_id": "cell-05dc06c4f046cee9",
          "locked": true,
          "schema_version": 1,
          "solution": false
        },
        "id": "Ljd3Lyrpu8Lj"
      },
      "source": [
        "## Reading models and propagating input\n",
        "\n",
        "At this point, we know how to train a model and how to save the resultant weights. Let's assume we're in the business of building a real system for handwritten character recognition; we need to be able to read in a previously trained model and forward propagate an image from outside the MNIST dataset through it in order to generate a prediction. Let's build some code to do just that. Firstly we need to load the model we saved in the previous part of the lab; PyTorch doesn't save the model structure by default, so you'll need to copy-paste the `BetterCNN` `forward` method implementation from the previous workbook into the block below:"
      ]
    },
    {
      "cell_type": "code",
      "execution_count": 2,
      "metadata": {
        "deletable": false,
        "nbgrader": {
          "checksum": "83517d0b5dd9912b14e753371891acda",
          "grade": false,
          "grade_id": "cell-25d7ce8447ab7c15",
          "locked": false,
          "schema_version": 1,
          "solution": true
        },
        "id": "cRE0vQKou8Lj"
      },
      "outputs": [],
      "source": [
        "%matplotlib inline\n",
        "# automatically reload external modules if they change\n",
        "%load_ext autoreload\n",
        "%autoreload 2\n",
        "\n",
        "import torch \n",
        "import torch.nn.functional as F\n",
        "import matplotlib.pyplot as plt\n",
        "from torch import nn\n",
        "\n",
        "import torch \n",
        "import torch.nn.functional as F\n",
        "from torch import nn\n",
        "\n",
        "# Model Definition\n",
        "class BetterCNN(nn.Module):\n",
        "    \n",
        "    def __init__(self):\n",
        "        super(BetterCNN, self).__init__()\n",
        "        self.conv1 = nn.Conv2d(1, 30, (5, 5), padding=0)\n",
        "        self.conv2 = nn.Conv2d(30, 15, (3, 3), padding=0)\n",
        "        self.fc1 = nn.Linear(15 * 5**2, 128)\n",
        "        self.fc2 = nn.Linear(128, 50)\n",
        "        self.fc3 = nn.Linear(50, 10)\n",
        "    \n",
        "    def forward(self, x):\n",
        "        out = self.conv1(x)\n",
        "        out = F.relu(out)\n",
        "        out = F.max_pool2d(out, (2,2))\n",
        "        out = self.conv2(out)\n",
        "        out = F.relu(out)\n",
        "        out = F.max_pool2d(out, (2,2))\n",
        "        out = F.dropout(out, 0.2)\n",
        "        out = out.view(out.shape[0], -1)\n",
        "        out = self.fc1(out)\n",
        "        out = F.relu(out)\n",
        "        out = self.fc2(out)\n",
        "        out = F.relu(out)\n",
        "        out = self.fc3(out)\n",
        "        return out\n",
        "\n",
        "# build the model and load state\n",
        "model = BetterCNN()\n",
        "model.load_state_dict(torch.load('bettercnn.weights'))\n",
        "\n",
        "# put model in eval mode\n",
        "model = model.eval() "
      ]
    },
    {
      "cell_type": "markdown",
      "metadata": {
        "deletable": false,
        "editable": false,
        "nbgrader": {
          "checksum": "97971f78e75437a324758a0adf66779f",
          "grade": false,
          "grade_id": "cell-05d9eb94a8c5425c",
          "locked": true,
          "schema_version": 1,
          "solution": false
        },
        "id": "YV7HDaUWu8Lk"
      },
      "source": [
        "We've provided a set of images you can try. Let's load the one corresponding to a '1', convert it to a tensor, and display it:"
      ]
    },
    {
      "cell_type": "code",
      "execution_count": 3,
      "metadata": {
        "deletable": false,
        "editable": false,
        "nbgrader": {
          "checksum": "c711239daefae20c86dd0d9036bdfacd",
          "grade": false,
          "grade_id": "cell-4bd7da9513437358",
          "locked": true,
          "schema_version": 1,
          "solution": false
        },
        "id": "BJNHhgifu8Lk",
        "outputId": "3edda0cd-9e05-49c6-b47f-4c35ee6daa8a",
        "colab": {
          "base_uri": "https://localhost:8080/",
          "height": 283
        }
      },
      "outputs": [
        {
          "output_type": "execute_result",
          "data": {
            "text/plain": [
              "<matplotlib.image.AxesImage at 0x7fcecb687290>"
            ]
          },
          "metadata": {},
          "execution_count": 3
        },
        {
          "output_type": "display_data",
          "data": {
            "text/plain": [
              "<Figure size 432x288 with 1 Axes>"
            ],
            "image/png": "[encoded data removed]"
          },
          "metadata": {
            "needs_background": "light"
          }
        }
      ],
      "source": [
        "from PIL import Image\n",
        "import torchvision\n",
        "\n",
        "transform = torchvision.transforms.ToTensor()\n",
        "im = transform(Image.open(\"1.PNG\"))\n",
        "\n",
        "plt.imshow(im[0], cmap=plt.get_cmap('gray'))"
      ]
    },
    {
      "cell_type": "markdown",
      "metadata": {
        "deletable": false,
        "editable": false,
        "nbgrader": {
          "checksum": "56476fa5813e1c34650810d8eed151ef",
          "grade": false,
          "grade_id": "cell-6cf292098a212188",
          "locked": true,
          "schema_version": 1,
          "solution": false
        },
        "id": "h7J_oVRxu8Ll"
      },
      "source": [
        "Now we'll use the model to make a prediction. The model expects input to have a batch dimension, so we use `unsqueeze(0)` to prepend one to the image. Recall that the model outputs the logits of the classes; the index of the biggest one will tell us which class has been predicted."
      ]
    },
    {
      "cell_type": "code",
      "execution_count": 4,
      "metadata": {
        "deletable": false,
        "editable": false,
        "nbgrader": {
          "checksum": "ff7a048101ce27cbe780653cd8468eca",
          "grade": false,
          "grade_id": "cell-92042c8f7b09a26d",
          "locked": true,
          "schema_version": 1,
          "solution": false
        },
        "id": "8aMeMTLmu8Ll",
        "outputId": "157e05c3-131e-47ce-9170-99f1dfa6fbc9",
        "colab": {
          "base_uri": "https://localhost:8080/"
        }
      },
      "outputs": [
        {
          "output_type": "stream",
          "name": "stdout",
          "text": [
            "logits: tensor([[-5.6287,  6.4196, -2.5997, -4.7137, -0.7811, -3.1886, -2.6241,  1.4425,\n",
            "          3.4162, -1.5290]])\n",
            "predicted class: 1\n"
          ]
        }
      ],
      "source": [
        "batch = im.unsqueeze(0)\n",
        "predictions = model(batch)\n",
        "\n",
        "print(\"logits:\", predictions.data)\n",
        "\n",
        "_, predicted_class = predictions.max(1)\n",
        "\n",
        "print(\"predicted class:\", predicted_class.item())"
      ]
    },
    {
      "cell_type": "markdown",
      "metadata": {
        "deletable": false,
        "editable": false,
        "nbgrader": {
          "checksum": "e83d2f7a42effd9370d399d819d592e3",
          "grade": false,
          "grade_id": "cell-dbe9d30ed68054cf",
          "locked": true,
          "schema_version": 1,
          "solution": false
        },
        "id": "iXjGcJpku8Lm"
      },
      "source": [
        "We've provided images `0.PNG` through to `9.PNG` for you to play with. Use the following code block to classify each image and print the results."
      ]
    },
    {
      "cell_type": "code",
      "execution_count": 15,
      "metadata": {
        "deletable": false,
        "nbgrader": {
          "checksum": "2c942b974467a9a456a2e9e4389b6f7c",
          "grade": false,
          "grade_id": "cell-27a634204f34e601",
          "locked": false,
          "schema_version": 1,
          "solution": true
        },
        "id": "ZGdeJ_iYu8Lo",
        "outputId": "280212b4-3a10-417b-cccb-d2119d3d69cd",
        "colab": {
          "base_uri": "https://localhost:8080/",
          "height": 317
        }
      },
      "outputs": [
        {
          "output_type": "stream",
          "name": "stdout",
          "text": [
            "logits: tensor([[ -0.1362,  -6.5167,  -2.8011,  -7.7806,  -3.2101,   9.6457,   6.0431,\n",
            "         -10.3278,   0.1623,   1.3524]])\n",
            "predicted class: 5\n"
          ]
        },
        {
          "output_type": "display_data",
          "data": {
            "text/plain": [
              "<Figure size 432x288 with 1 Axes>"
            ],
            "image/png": "[encoded data removed]"
          },
          "metadata": {
            "needs_background": "light"
          }
        }
      ],
      "source": [
        "transform = torchvision.transforms.ToTensor()\n",
        "im = transform(Image.open(\"6.PNG\"))\n",
        "\n",
        "plt.imshow(im[0], cmap=plt.get_cmap('gray'))\n",
        "\n",
        "batch = im.unsqueeze(0)\n",
        "predictions = model(batch)\n",
        "\n",
        "print(\"logits:\", predictions.data)\n",
        "\n",
        "_, predicted_class = predictions.max(1)\n",
        "\n",
        "print(\"predicted class:\", predicted_class.item())"
      ]
    },
    {
      "cell_type": "markdown",
      "metadata": {
        "deletable": false,
        "editable": false,
        "nbgrader": {
          "checksum": "7126e6798f657baa53e1d4e360614e02",
          "grade": false,
          "grade_id": "cell-b1f2a02a37c3f405",
          "locked": true,
          "schema_version": 1,
          "solution": false
        },
        "id": "vDhYg2Hnu8Lo"
      },
      "source": [
        "__Answer the following question (enter the answer in the box below each one):__\n",
        "\n",
        "__1.__ How many images were missclassified? Which images?"
      ]
    },
    {
      "cell_type": "markdown",
      "metadata": {
        "deletable": false,
        "nbgrader": {
          "checksum": "2bfced6d006c0b957ba58544a03b12f2",
          "grade": true,
          "grade_id": "cell-092c153f41f2dd1d",
          "locked": false,
          "points": 2,
          "schema_version": 1,
          "solution": true
        },
        "id": "CI24sa4Ju8Lp"
      },
      "source": [
        "9 was predicted to be in class 4\n",
        "\n",
        "6 was predicted to be in class 5\n",
        "\n",
        "2 classes were misclassified"
      ]
    }
  ],
  "metadata": {
    "kernelspec": {
      "display_name": "Python 3",
      "language": "python",
      "name": "python3"
    },
    "language_info": {
      "codemirror_mode": {
        "name": "ipython",
        "version": 3
      },
      "file_extension": ".py",
      "mimetype": "text/x-python",
      "name": "python",
      "nbconvert_exporter": "python",
      "pygments_lexer": "ipython3",
      "version": "3.6.7"
    },
    "colab": {
      "name": "5_2_Loading.ipynb",
      "provenance": []
    },
    "accelerator": "GPU"
  },
  "nbformat": 4,
  "nbformat_minor": 0
}